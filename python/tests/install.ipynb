{
 "cells": [
  {
   "cell_type": "markdown",
   "id": "ee5a3cf1-12e7-4e19-995f-af2078508395",
   "metadata": {},
   "source": [
    "# Setup JupyterLab for USML testing\n",
    "\n",
    "Install JupyterLab and IPywidgets on this computer.\n",
    "\n",
    "```pip install jupyterlab ipywidgets```\n",
    "\n",
    "Activate IPywidgets for JupyterLab.\n",
    "\n",
    "```jupyter labextension install @jupyter-widgets/jupyterlab-manager```\n",
    "\n",
    "This step may complain that Node.js and npm are not installed, or the wrong versions are installed. Install Node.js 18.0.0 or better to fix this, then rerun the `jupyter labextension` command from above.\n",
    "\n",
    "```sudo dnf module install nodejs:18/common```\n",
    "\n",
    "Open a JupyterLab notebook and test the ability to use interactive widgets."
   ]
  },
  {
   "cell_type": "code",
   "id": "dc350a24-1993-4ffa-b4bf-20ecd352df70",
   "metadata": {
    "editable": true,
    "slideshow": {
     "slide_type": ""
    },
    "tags": [],
    "ExecuteTime": {
     "end_time": "2024-07-01T01:07:08.488616Z",
     "start_time": "2024-07-01T01:07:08.456583Z"
    }
   },
   "source": [
    "import ipywidgets as widgets\n",
    "from ipywidgets import interact, interact_manual\n",
    "\n",
    "@interact\n",
    "def show_me(name=['a','b','c'],x=(10,10000,10)):\n",
    "    return name, x"
   ],
   "outputs": [
    {
     "data": {
      "text/plain": [
       "interactive(children=(Dropdown(description='name', options=('a', 'b', 'c'), value='a'), IntSlider(value=5000, …"
      ],
      "application/vnd.jupyter.widget-view+json": {
       "version_major": 2,
       "version_minor": 0,
       "model_id": "a5309d5736534a60911c87204b78317a"
      }
     },
     "metadata": {},
     "output_type": "display_data"
    }
   ],
   "execution_count": 5
  },
  {
   "cell_type": "markdown",
   "id": "d428ed8e-3f26-4c6b-9dad-ad91409e2d72",
   "metadata": {},
   "source": [
    "Install the other external packages required for USML testing."
   ]
  },
  {
   "cell_type": "code",
   "id": "6ea82bb0-dc09-42a6-a9f8-83d4f075644a",
   "metadata": {
    "ExecuteTime": {
     "end_time": "2024-07-01T01:07:09.264011Z",
     "start_time": "2024-07-01T01:07:08.490409Z"
    }
   },
   "source": [
    "# Install a pip packages in the current Jupyter kernel\n",
    "import sys\n",
    "!{sys.executable} -m pip install scipy matplotlib netCDF4 pyproj"
   ],
   "outputs": [
    {
     "name": "stdout",
     "output_type": "stream",
     "text": [
      "Requirement already satisfied: scipy in /home/sreilly/GRID-UWA/python/.venv/lib64/python3.11/site-packages (1.14.0)\r\n",
      "Requirement already satisfied: matplotlib in /home/sreilly/GRID-UWA/python/.venv/lib64/python3.11/site-packages (3.9.0)\r\n",
      "Requirement already satisfied: netCDF4 in /home/sreilly/GRID-UWA/python/.venv/lib64/python3.11/site-packages (1.7.1.post1)\r\n",
      "Requirement already satisfied: pyproj in /home/sreilly/GRID-UWA/python/.venv/lib64/python3.11/site-packages (3.6.1)\r\n",
      "Requirement already satisfied: numpy<2.3,>=1.23.5 in /home/sreilly/GRID-UWA/python/.venv/lib64/python3.11/site-packages (from scipy) (2.0.0)\r\n",
      "Requirement already satisfied: contourpy>=1.0.1 in /home/sreilly/GRID-UWA/python/.venv/lib64/python3.11/site-packages (from matplotlib) (1.2.1)\r\n",
      "Requirement already satisfied: cycler>=0.10 in /home/sreilly/GRID-UWA/python/.venv/lib/python3.11/site-packages (from matplotlib) (0.12.1)\r\n",
      "Requirement already satisfied: fonttools>=4.22.0 in /home/sreilly/GRID-UWA/python/.venv/lib64/python3.11/site-packages (from matplotlib) (4.53.0)\r\n",
      "Requirement already satisfied: kiwisolver>=1.3.1 in /home/sreilly/GRID-UWA/python/.venv/lib64/python3.11/site-packages (from matplotlib) (1.4.5)\r\n",
      "Requirement already satisfied: packaging>=20.0 in /home/sreilly/GRID-UWA/python/.venv/lib/python3.11/site-packages (from matplotlib) (24.1)\r\n",
      "Requirement already satisfied: pillow>=8 in /home/sreilly/GRID-UWA/python/.venv/lib64/python3.11/site-packages (from matplotlib) (10.3.0)\r\n",
      "Requirement already satisfied: pyparsing>=2.3.1 in /home/sreilly/GRID-UWA/python/.venv/lib/python3.11/site-packages (from matplotlib) (3.1.2)\r\n",
      "Requirement already satisfied: python-dateutil>=2.7 in /home/sreilly/GRID-UWA/python/.venv/lib/python3.11/site-packages (from matplotlib) (2.9.0.post0)\r\n",
      "Requirement already satisfied: cftime in /home/sreilly/GRID-UWA/python/.venv/lib64/python3.11/site-packages (from netCDF4) (1.6.4)\r\n",
      "Requirement already satisfied: certifi in /home/sreilly/GRID-UWA/python/.venv/lib/python3.11/site-packages (from netCDF4) (2024.6.2)\r\n",
      "Requirement already satisfied: six>=1.5 in /home/sreilly/GRID-UWA/python/.venv/lib/python3.11/site-packages (from python-dateutil>=2.7->matplotlib) (1.16.0)\r\n"
     ]
    }
   ],
   "execution_count": 6
  },
  {
   "cell_type": "code",
   "id": "eec21c34-31be-466d-aceb-caf8c48ff88e",
   "metadata": {
    "ExecuteTime": {
     "end_time": "2024-07-01T01:07:09.712075Z",
     "start_time": "2024-07-01T01:07:09.268653Z"
    }
   },
   "source": [
    "!{sys.executable} -m pip list"
   ],
   "outputs": [
    {
     "name": "stdout",
     "output_type": "stream",
     "text": [
      "Package                   Version\r\n",
      "------------------------- --------------\r\n",
      "anyio                     4.4.0\r\n",
      "argon2-cffi               23.1.0\r\n",
      "argon2-cffi-bindings      21.2.0\r\n",
      "arrow                     1.3.0\r\n",
      "asttokens                 2.4.1\r\n",
      "async-lru                 2.0.4\r\n",
      "attrs                     23.2.0\r\n",
      "Babel                     2.15.0\r\n",
      "beautifulsoup4            4.12.3\r\n",
      "bleach                    6.1.0\r\n",
      "certifi                   2024.6.2\r\n",
      "cffi                      1.16.0\r\n",
      "cftime                    1.6.4\r\n",
      "charset-normalizer        3.3.2\r\n",
      "comm                      0.2.2\r\n",
      "contourpy                 1.2.1\r\n",
      "cycler                    0.12.1\r\n",
      "debugpy                   1.8.2\r\n",
      "decorator                 5.1.1\r\n",
      "defusedxml                0.7.1\r\n",
      "executing                 2.0.1\r\n",
      "fastjsonschema            2.20.0\r\n",
      "fonttools                 4.53.0\r\n",
      "fqdn                      1.5.1\r\n",
      "h11                       0.14.0\r\n",
      "httpcore                  1.0.5\r\n",
      "httpx                     0.27.0\r\n",
      "idna                      3.7\r\n",
      "ipykernel                 6.29.4\r\n",
      "ipython                   8.26.0\r\n",
      "ipywidgets                8.1.3\r\n",
      "isoduration               20.11.0\r\n",
      "jedi                      0.19.1\r\n",
      "Jinja2                    3.1.4\r\n",
      "json5                     0.9.25\r\n",
      "jsonpointer               3.0.0\r\n",
      "jsonschema                4.22.0\r\n",
      "jsonschema-specifications 2023.12.1\r\n",
      "jupyter                   1.0.0\r\n",
      "jupyter_client            8.6.2\r\n",
      "jupyter-console           6.6.3\r\n",
      "jupyter_core              5.7.2\r\n",
      "jupyter-events            0.10.0\r\n",
      "jupyter-lsp               2.2.5\r\n",
      "jupyter_server            2.14.1\r\n",
      "jupyter_server_terminals  0.5.3\r\n",
      "jupyterlab                4.2.3\r\n",
      "jupyterlab_pygments       0.3.0\r\n",
      "jupyterlab_server         2.27.2\r\n",
      "jupyterlab_widgets        3.0.11\r\n",
      "kiwisolver                1.4.5\r\n",
      "MarkupSafe                2.1.5\r\n",
      "matplotlib                3.9.0\r\n",
      "matplotlib-inline         0.1.7\r\n",
      "mistune                   3.0.2\r\n",
      "nbclient                  0.10.0\r\n",
      "nbconvert                 7.16.4\r\n",
      "nbformat                  5.10.4\r\n",
      "nest-asyncio              1.6.0\r\n",
      "netCDF4                   1.7.1.post1\r\n",
      "notebook                  7.2.1\r\n",
      "notebook_shim             0.2.4\r\n",
      "numpy                     2.0.0\r\n",
      "overrides                 7.7.0\r\n",
      "packaging                 24.1\r\n",
      "pandocfilters             1.5.1\r\n",
      "parso                     0.8.4\r\n",
      "pexpect                   4.9.0\r\n",
      "pillow                    10.3.0\r\n",
      "pip                       24.1.1\r\n",
      "platformdirs              4.2.2\r\n",
      "prometheus_client         0.20.0\r\n",
      "prompt_toolkit            3.0.47\r\n",
      "psutil                    6.0.0\r\n",
      "ptyprocess                0.7.0\r\n",
      "pure-eval                 0.2.2\r\n",
      "pycparser                 2.22\r\n",
      "Pygments                  2.18.0\r\n",
      "pyparsing                 3.1.2\r\n",
      "pyproj                    3.6.1\r\n",
      "python-dateutil           2.9.0.post0\r\n",
      "python-json-logger        2.0.7\r\n",
      "PyYAML                    6.0.1\r\n",
      "pyzmq                     26.0.3\r\n",
      "qtconsole                 5.5.2\r\n",
      "QtPy                      2.4.1\r\n",
      "referencing               0.35.1\r\n",
      "requests                  2.32.3\r\n",
      "rfc3339-validator         0.1.4\r\n",
      "rfc3986-validator         0.1.1\r\n",
      "rpds-py                   0.18.1\r\n",
      "scipy                     1.14.0\r\n",
      "Send2Trash                1.8.3\r\n",
      "setuptools                68.2.0\r\n",
      "six                       1.16.0\r\n",
      "sniffio                   1.3.1\r\n",
      "soupsieve                 2.5\r\n",
      "stack-data                0.6.3\r\n",
      "terminado                 0.18.1\r\n",
      "tinycss2                  1.3.0\r\n",
      "tornado                   6.4.1\r\n",
      "traitlets                 5.14.3\r\n",
      "types-python-dateutil     2.9.0.20240316\r\n",
      "typing_extensions         4.12.2\r\n",
      "uri-template              1.3.0\r\n",
      "urllib3                   2.2.2\r\n",
      "wcwidth                   0.2.13\r\n",
      "webcolors                 24.6.0\r\n",
      "webencodings              0.5.1\r\n",
      "websocket-client          1.8.0\r\n",
      "wheel                     0.41.2\r\n",
      "widgetsnbextension        4.0.11\r\n"
     ]
    }
   ],
   "execution_count": 7
  }
 ],
 "metadata": {
  "kernelspec": {
   "display_name": "Python 3 (ipykernel)",
   "language": "python",
   "name": "python3"
  },
  "language_info": {
   "codemirror_mode": {
    "name": "ipython",
    "version": 3
   },
   "file_extension": ".py",
   "mimetype": "text/x-python",
   "name": "python",
   "nbconvert_exporter": "python",
   "pygments_lexer": "ipython3",
   "version": "3.9.16"
  }
 },
 "nbformat": 4,
 "nbformat_minor": 5
}
