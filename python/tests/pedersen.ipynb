{
 "cells": [
  {
   "cell_type": "markdown",
   "id": "251fd2b7-2c0a-48d8-9acc-9a0078386292",
   "metadata": {},
   "source": [
    "# Pedersen Study\n",
    "\n",
    "Analyze the performance of the model against the extreme downward refraction\n",
    "N^2 linear test case developed by Pedersen and Gordon.  This is also the\n",
    "test case that Weinberg and Keenan used to calibrate the minimum beam width\n",
    "in GRAB. This test serves several important functions\n",
    "- Compares the ray path locations, travel time, and D/E angles to analytic results.\n",
    "- Compares the total propagation loss to analytic results.\n",
    "- Analyzes the contribution of the phase change at the caustic.\n",
    "\n",
    "The Pedersen/Gordon paper focuses two test cases.\n",
    "\n",
    "- The shallow source portion analyzed an acoustic field for a downward\n",
    "  refracting profile that had been fit to experimental velocity data.\n",
    "  Propagation loss was studied in both the image interference zone\n",
    "  and the shadow zone.\n",
    "- The deep source test cases extended this analysis to a non-physical\n",
    "  extreme that emphasizes the effects of the caustic.\n",
    "\n",
    "Pedersen/Gordon concludes that the pi/2 phase change should only occur\n",
    "when the ray path touches the caustic and not when the ray passes through\n",
    "a horizontal vertex.  This is consistent with the current implementation\n",
    "of GRAB, but different than the original Weinberg/Keenan paper.\n",
    "\n",
    "Uses the MKS version of the parameters defined in Jensen et. al.\n",
    "instead of the original yd/sec version defined by Pedersen.\n",
    "\n",
    "- c0 = 1550 m/s, g0 = 1.2 1/s, f = 2000 Hz\n",
    "- shallow:\n",
    "    - source: depth = 75 m, time inc=0.025, cs = 1467.149925 m/s\n",
    "    - target: depth = 75 m, range = 500-1000 m\n",
    "- deep:\n",
    "    - source: depth = 1000 m, time inc=0.1, cs = 970.954770 m/s\n",
    "    - target: depth = 800 m, range = 3000-3100 m\n",
    " \n",
    " ---\n",
    " **Refefences:**\n",
    " * M. A. Pedersen, D. F. Gordon, \"Normal-Mode and Ray Theory Applied\n",
    "   to Underwater Acoustic conditions of Extreme Downward Refraction\",\n",
    "   J. Acoust. Soc. Am. 51 (1B), 323-368 (June 1972).\n",
    " * H. Weinberg, R. E. Keenan, “Gaussian ray bundles for modeling\n",
    "   high-frequency propagation loss under shallow-water conditions”,\n",
    "   J. Acoust. Soc. Am. 100 (3), 1421-1431, (Sept 1996).\n",
    " * L. M. Brekhovskikh, Waves in Layered Media, 2nd Edition,\n",
    "   Academic Press Inc., 1980, Section 54.\n",
    " * F. B. Jensen, W. A. Kuperman, M. B. Porter, and H. Schmidt,\n",
    "   Computational Ocean Acoustics (American Institute of Physics Press,\n",
    "   New York, 1994) pp. 162-166."
   ]
  },
  {
   "cell_type": "markdown",
   "id": "e2f94996-3131-412d-90eb-a050d2a0d951",
   "metadata": {},
   "source": [
    "# Setup path information\n",
    "\n",
    "Setup USML path information assuming that this notebook is in usml/python/test directory."
   ]
  },
  {
   "cell_type": "code",
   "execution_count": 1,
   "id": "518a63d2-580d-4b8b-806a-6794b3ccd7d3",
   "metadata": {
    "jupyter": {
     "source_hidden": true
    }
   },
   "outputs": [],
   "source": [
    "import sys\n",
    "import os\n",
    "\n",
    "USML_DIR = os.path.abspath(\"../..\")\n",
    "sys.path.append(os.path.join(USML_DIR,\"python/src\"))\n",
    "\n",
    "import matplotlib.cm as cm\n",
    "import matplotlib.pyplot as plt\n",
    "import numpy as np\n",
    "\n",
    "import ipywidgets as widgets\n",
    "from ipywidgets import interact, interact_manual\n",
    "\n",
    "import usml.netcdf\n",
    "import usml.plot"
   ]
  },
  {
   "cell_type": "markdown",
   "id": "b2bd24c1-7cef-4780-ae5f-ddf94f1aa4d9",
   "metadata": {},
   "source": [
    "# Shallow Source Raytrace\n",
    "\n",
    "Illustrates the effects of downward refraction and surface reflection wavefront shapes. The colored lines below illustrate ray paths with launch angles from zero to 25 degrees upward, at a spacing of 1.0 degrees. Similar to Figure 3.6 in Jensen et. al. The critical ray for a source at 75.0 meters is 18.82 degrees and launch angles below this refract down before hitting the ocean surface. The black curve represents the acoustic wavefront shape for the travel time specified in the slider bar. The wavefront points are sampled at a 0.02 degrees and this causes the wavefront to stretch into the shadow zone slightly farther than the ray drawing. The surface reflection creates a fold in the wavefront. This creates a shadow zone near the ocean surface, but it does not create a caustic."
   ]
  },
  {
   "cell_type": "code",
   "execution_count": 4,
   "id": "3d7a88fa-a341-446b-8ac8-bd8e65971145",
   "metadata": {},
   "outputs": [
    {
     "data": {
      "application/vnd.jupyter.widget-view+json": {
       "model_id": "02cbf8aeed1445ca8b037a6639ae2d5e",
       "version_major": 2,
       "version_minor": 0
      },
      "text/plain": [
       "interactive(children=(FloatSlider(value=0.42, description='time', max=0.8500000000000005, step=0.01), Output()…"
      ]
     },
     "metadata": {},
     "output_type": "display_data"
    }
   ],
   "source": [
    "filename = os.path.join(USML_DIR, \"studies/pedersen/pedersen_shallow_raytrace.nc\")\n",
    "wavefront = usml.netcdf.read(filename)\n",
    "de_list = wavefront.source_de[::50]\n",
    "de_direct = de_list[ np.asarray(de_list < 18.82).nonzero() ]\n",
    "de_reflect = de_list[ np.asarray(de_list >= 18.82).nonzero() ]\n",
    "\n",
    "tmin = wavefront.travel_time[0]\n",
    "tmax = wavefront.travel_time[-1]\n",
    "tinc = wavefront.travel_time[1] - wavefront.travel_time[0]\n",
    "\n",
    "@interact\n",
    "def shallow_raytrace(time=(tmin,tmax,tinc)):\n",
    "    fig, ax = plt.subplots(figsize=(8, 6))\n",
    "    usml.plot.plot_raytrace_2d(ax,wavefront,de=de_direct)\n",
    "    usml.plot.plot_raytrace_2d(ax,wavefront,de=de_reflect,fmt=\"--\")\n",
    "    usml.plot.plot_wavefront_2d(ax,wavefront,time=time,fmt=\"k-\")\n",
    "    ax.grid(True)\n",
    "    ax.set_xlabel('Range (km)')\n",
    "    ax.set_ylabel('Depth (m)')\n",
    "    ax.set_xlim(0,1.2)\n",
    "    ax.set_ylim(-500,0)\n",
    "\n",
    "echo = 0"
   ]
  },
  {
   "cell_type": "markdown",
   "id": "e115f460-0c90-4556-b244-234022669e43",
   "metadata": {},
   "source": [
    "# Deep Source Raytrace\n",
    "\n",
    "Illustrates the effect of caustic on wavefront folds. The colored lines below illustrate ray paths with launch angles from 20 to 60 degrees upward, at a spacing of 10 degrees. The critical ray for a source at 1000.0 meters is 51.21 degrees and launch angles below this refract down before hitting the ocean surface. The black curve represents the acoustic wavefront shape for the travel time specified in the slider bar. The wavefront points are sampled at a 0.2 degrees and this causes the wavefront to stretch into the shadow zone slightly farther than the ray drawing. The surface reflection creates a fold in the wavefront. This creates a shadow zone near the ocean surface. At times greater than about 2.5 seconds, there is a caustic in the direct path.  So points on trailing side of the wavefront fold can have different numbers of surface reflections."
   ]
  },
  {
   "cell_type": "code",
   "execution_count": 3,
   "id": "8f90621b-3871-4820-b286-040552ceffd2",
   "metadata": {},
   "outputs": [
    {
     "data": {
      "application/vnd.jupyter.widget-view+json": {
       "model_id": "abea5529ee9e484eba69bd236bf5403c",
       "version_major": 2,
       "version_minor": 0
      },
      "text/plain": [
       "interactive(children=(FloatSlider(value=1.75, description='time', max=3.509999999999969, step=0.01), Output())…"
      ]
     },
     "metadata": {},
     "output_type": "display_data"
    }
   ],
   "source": [
    "filename = os.path.join(USML_DIR, \"studies/pedersen/pedersen_deep_raytrace.nc\")\n",
    "wavefront = usml.netcdf.read(filename)\n",
    "\n",
    "de_list = wavefront.source_de[::10]\n",
    "de_direct = de_list[ np.asarray(de_list < 51.21).nonzero() ]\n",
    "de_reflect = de_list[ np.asarray(de_list >= 51.21).nonzero() ]\n",
    "\n",
    "tmin = wavefront.travel_time[0]\n",
    "tmax = wavefront.travel_time[-1]\n",
    "tinc = wavefront.travel_time[1] - wavefront.travel_time[0]\n",
    "\n",
    "@interact\n",
    "def deep_raytrace(time=(tmin,tmax,tinc)):\n",
    "    fig, ax = plt.subplots(figsize=(8, 6))\n",
    "    usml.plot.plot_raytrace_2d(ax,wavefront,de=de_direct)\n",
    "    usml.plot.plot_raytrace_2d(ax,wavefront,de=de_reflect,fmt=\"--\")\n",
    "    usml.plot.plot_wavefront_2d(ax,wavefront,time=time,fmt=\"k-\")\n",
    "    ax.grid(True)\n",
    "    ax.set_xlabel('Range (km)')\n",
    "    ax.set_ylabel('Depth (m)')\n",
    "    ax.set_xlim(0,3.5)\n",
    "    ax.set_ylim(-1200,0)\n",
    "\n",
    "echo = 0"
   ]
  },
  {
   "cell_type": "markdown",
   "id": "13a5647f-1cc4-4d00-a6af-eb58185b9cae",
   "metadata": {},
   "source": [
    "# Analytic Model for Ray Paths in $n^2$ Linear Environment\n",
    "\n",
    "Analytic solution for the ray paths of the Pedersen profile in a Spherical coordinate system. The Pedersen profile is an extreme test case for a downward refracting $n^2$ linear profile.\n",
    "\n",
    "$$\n",
    "c(r) = \\left[ \\frac{c_0}{ \\sqrt{ \\frac{ 1 + 2 g_0 \\left( R - r \\right) }{c_0} } } \\right] \\frac{r}{R}\n",
    "$$\n",
    "\n",
    "where:\n",
    "* $R$ = Earth radius of curvature\n",
    "* $r$ = radial component of position (positive is up)\n",
    "* $c_0$ = sound speed at the ocean surface\n",
    "* $g_0$ = sound speed gradient at at the ocean surface\n",
    "\n",
    "A \"flat Earth\" correction has been applied to the speed profile to simplify comparisons to the Cartesian coordinate system.\n",
    "\n",
    "This test produces an analytic solution for the cycle range as a function of launch angle.  For the purpose of this test, the cycle range is\n",
    "defined as the range required to reach the upward refracting apex and return to the original depth. For a source at 1000 yds, only angles in\n",
    "the range (0,50.44] degrees (up) will produce a purely refractive cycle range.  Following Pedersen example, we will focus our analysis on angles\n",
    "in the range [20,50].\n",
    "\n",
    "The range from the source to the first vertex is computed by integrating the equation for dQ/dr using Snell's law for spherical media and the\n",
    "quadgk() function.\n",
    "\n",
    "$$\n",
    "r \\frac{dQ}{dr} = cot(A) = \\frac{ac}{\\sqrt{1 - (ac)^2} }\n",
    "$$\n",
    "\n",
    "$$\n",
    "a = \\frac{r cos(A_1)}{c_1}\n",
    "$$\n",
    "\n",
    "where:\n",
    "\n",
    "* $Q$ = latitude component of position (positive is south)\n",
    "* $A$ = depression/elevation angle at each r (positive is up)\n",
    "* $A_1$ = launch angle (positive is up)\n",
    "* $c_1$ = sound speed at source depth\n",
    "* $a$ = ray parameter (constant for each launch angle)\n",
    "\n",
    "To complete the computation of cycle range, distances from upward and\n",
    "downward launch angles are combined to compute the complete distance.\n",
    "Note that the fact that we are working in Spherical media adds extra\n",
    "factors of \"r\" to both dQ/dr and Snell's law."
   ]
  },
  {
   "cell_type": "markdown",
   "id": "cbb39fa7-c515-4a7b-8448-60ab21133869",
   "metadata": {},
   "source": [
    "# Shallow Source Analytics Solution"
   ]
  },
  {
   "cell_type": "code",
   "execution_count": null,
   "id": "736913d3-4501-43b3-8f5d-8c6dc8afd4a9",
   "metadata": {},
   "outputs": [],
   "source": []
  },
  {
   "cell_type": "raw",
   "id": "282fca40-afe0-4dfe-a57c-5f5c1ce59c48",
   "metadata": {},
   "source": []
  },
  {
   "cell_type": "markdown",
   "id": "d036ee44-2a21-4b6b-a1d4-e703d62a0809",
   "metadata": {},
   "source": [
    "# Shallow Source Propagation Loss\n",
    "\n",
    "Tests the accuracy of the eigenray_collection model against the analytic solution for the shallow source, N^2 linear test case developed by Pedersen and Gordon. The source is located at a depth of 75 meters. Receivers have a depth of 75 meters and ranges from 500 to 1000 yds. Uses rays from 0 to 30 degrees at a very a tight 0.025 deg spacing.  Such tight spacing is needed to capture the portion of the surface reflected path just inside of the critical ray. Tests the model's ability to produce accurate propagation loss, phase, travel times, and eigneray angles at the edge of a shadow zone. "
   ]
  },
  {
   "cell_type": "markdown",
   "id": "e814dc77-7f20-4a10-9441-f2eb79223db8",
   "metadata": {},
   "source": [
    "# Deep Source Propagation Loss\n",
    "\n",
    "Tests the accuracy of the eigenray_collection model against the analytic solution for the deep source, N^2 linear test case developed by Pedersen and Gordon. The source is located at a depth of 1000 meters. Receivers have a depth of 800 meters and ranges from 3000 to 3120 meters. Uses rays from 20 to 60 degrees at a 0.25 deg spacing. Tests the model's ability to produce accurate propagation loss, phase, travel times, and eigneray angles in an area where a caustic causes rays to cross at the edge of a shadow zone.\n",
    "\n",
    "We found that tangent spaced beams did not work very well for this scenario.  Several combinations of parameters lead to artifacts in the\n",
    "shadow zone from an imperfect cancellation of the direct and caustic paths. We believe that this is caused the accumulation of small cell width\n",
    "and target range errors over hundreds of contributing beams."
   ]
  },
  {
   "cell_type": "code",
   "execution_count": null,
   "id": "bcd18b1a-54cb-46c5-8519-cff4f305bb94",
   "metadata": {},
   "outputs": [],
   "source": []
  }
 ],
 "metadata": {
  "kernelspec": {
   "display_name": "Python 3 (ipykernel)",
   "language": "python",
   "name": "python3"
  },
  "language_info": {
   "codemirror_mode": {
    "name": "ipython",
    "version": 3
   },
   "file_extension": ".py",
   "mimetype": "text/x-python",
   "name": "python",
   "nbconvert_exporter": "python",
   "pygments_lexer": "ipython3",
   "version": "3.9.16"
  }
 },
 "nbformat": 4,
 "nbformat_minor": 5
}
