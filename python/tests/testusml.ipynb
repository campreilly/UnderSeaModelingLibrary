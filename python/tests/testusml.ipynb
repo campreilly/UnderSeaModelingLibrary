{
 "cells": [
  {
   "cell_type": "markdown",
   "id": "e2f94996-3131-412d-90eb-a050d2a0d951",
   "metadata": {},
   "source": [
    "# Setup path information\n",
    "\n",
    "Setup USML path information assuming that this notebook is in usml/python/test directory."
   ]
  },
  {
   "cell_type": "code",
   "execution_count": 1,
   "id": "518a63d2-580d-4b8b-806a-6794b3ccd7d3",
   "metadata": {},
   "source": [
    "import sys\n",
    "import os\n",
    "\n",
    "USML_DIR = os.path.abspath(\"../..\")\n",
    "sys.path.append(os.path.join(USML_DIR,\"python/src\"))\n",
    "print(USML_DIR)\n",
    "\n",
    "import matplotlib.cm as cm\n",
    "import matplotlib.pyplot as plt\n",
    "import numpy as np\n",
    "\n",
    "import usml.netcdf\n",
    "import usml.plot"
   ],
   "outputs": []
  },
  {
   "cell_type": "markdown",
   "id": "eb939df9-b7ae-4f48-a5b7-57efc9e0afdb",
   "metadata": {},
   "source": [
    "# Plot beampatterns\n",
    "Demonstrate the ability to load 3D beam patterns produced by bp_test.cc suite."
   ]
  },
  {
   "cell_type": "code",
   "execution_count": 2,
   "id": "979cc3fe-80bf-4051-94a7-517e84311984",
   "metadata": {},
   "source": [
    "file = \"bp_planar.csv\"\n",
    "fullfile = os.path.join(USML_DIR, \"beampatterns/test\", file)\n",
    "output = file.replace(\".csv\", \"\")\n",
    "pattern = np.genfromtxt(fullfile, delimiter=',')\n",
    "\n",
    "fig, ax = plt.subplots(figsize=(8, 6), subplot_kw={'projection': '3d'})\n",
    "usml.plot.plot_beampattern_3d(ax, pattern)\n",
    "ax.set_title(output)\n",
    "ax.set_xlabel('x')\n",
    "ax.set_ylabel('y')\n",
    "ax.set_zlabel('z')"
   ],
   "outputs": []
  },
  {
   "cell_type": "markdown",
   "id": "b2bd24c1-7cef-4780-ae5f-ddf94f1aa4d9",
   "metadata": {},
   "source": [
    "# Draw 3D map of bathymetry around Hawaii from ETOPO1 database.\n",
    "\n",
    "Tests the abilities to:\n",
    "- Read bathymetry from whole world ETOPO1 database.\n",
    "- Limit area by specifying lat_range or lng_range.\n",
    "- Create 3D bathymetry surface plot"
   ]
  },
  {
   "cell_type": "code",
   "execution_count": 3,
   "id": "5e7b8eea-e1db-40f9-aeac-580f97ea6a40",
   "metadata": {},
   "source": [
    "# load bathymetry from whole world database\n",
    "filename = os.path.join(USML_DIR, \"data/bathymetry/ETOPO1_Ice_g_gmt4.grd\")\n",
    "bathymetry = usml.netcdf.Bathymetry(filename, lat_range=(18, 23), lng_range=(-160, -154))\n",
    "x, y = np.meshgrid(bathymetry.longitude, bathymetry.latitude)\n",
    "z = bathymetry.altitude\n",
    "\n",
    "# draw 3D surface plot\n",
    "fig, ax = plt.subplots(figsize=(8, 6), subplot_kw={'projection': '3d'})\n",
    "surface = usml.plot.plot_bathymetry_3d(ax, bathymetry)\n",
    "ax.view_init(70, -100)\n",
    "ax.set_xlabel(\"Longitude (deg)\")\n",
    "ax.set_ylabel(\"Latitude (deg)\")\n",
    "ax.set_title(\"ETOPO1 Bathymetry Around Hawaii\")\n",
    "cbar = fig.colorbar(surface)\n",
    "cbar.ax.set_title(\"Depth (m)\")"
   ],
   "outputs": []
  }
 ],
 "metadata": {
  "kernelspec": {
   "display_name": "Python 3 (ipykernel)",
   "language": "python",
   "name": "python3"
  },
  "language_info": {
   "codemirror_mode": {
    "name": "ipython",
    "version": 3
   },
   "file_extension": ".py",
   "mimetype": "text/x-python",
   "name": "python",
   "nbconvert_exporter": "python",
   "pygments_lexer": "ipython3",
   "version": "3.9.16"
  }
 },
 "nbformat": 4,
 "nbformat_minor": 5
}
